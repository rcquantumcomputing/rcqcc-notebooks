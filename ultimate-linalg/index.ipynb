{
 "cells": [
  {
   "cell_type": "markdown",
   "metadata": {},
   "source": [
    "# Ultimate Linear Algebra - Ruzgar Imren"
   ]
  },
  {
   "cell_type": "markdown",
   "metadata": {},
   "source": [
    "## Scalars, Vectors, Matrices and Tensors\n",
    "### Introduction\n",
    "In linear algebra, we start with the absic building blocks known as scalars, vectors, matrices, and tensors. Understanding these elements is crucial for diving deeper into more complex topics within the quantum world.\n",
    "\n",
    "\n",
    "#### Scalars\n",
    "A **scalar** is a single number, in contrast to most other algebraic entites that are usually arrays of mutliple numbers. It can be an integer, a floating-point number (float), or even a complex number."
   ]
  },
  {
   "cell_type": "code",
   "execution_count": null,
   "metadata": {},
   "outputs": [],
   "source": [
    "# Scalar\n",
    "a = 5\n",
    "print(\"Scalar value:\", a)"
   ]
  }
 ],
 "metadata": {
  "kernelspec": {
   "display_name": "Python 3",
   "language": "python",
   "name": "python3"
  },
  "language_info": {
   "codemirror_mode": {
    "name": "ipython",
    "version": 3
   },
   "file_extension": ".py",
   "mimetype": "text/x-python",
   "name": "python",
   "nbconvert_exporter": "python",
   "pygments_lexer": "ipython3",
   "version": "3.12.2"
  }
 },
 "nbformat": 4,
 "nbformat_minor": 2
}
