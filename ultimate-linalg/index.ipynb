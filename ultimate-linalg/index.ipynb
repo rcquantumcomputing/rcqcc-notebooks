{
 "cells": [
  {
   "cell_type": "markdown",
   "metadata": {},
   "source": [
    "# Ultimate Linear Algebra - Ruzgar Imren"
   ]
  },
  {
   "cell_type": "markdown",
   "metadata": {},
   "source": [
    "## Setting Up Your Environment\n",
    "Before we start exploring the concepts of linear algebra, it's important to ensure that your Python environment is set up with all the necessary packages. This section guides you through installing the required libraries and importing them into your Jupyter Notebook.\n",
    "\n",
    "### Required Packages\n",
    "We'll be using the following dependencies:\n",
    "\n",
    "* **NumPy**: The fundamental library for scientific computing with Python. It provides support for large, multi-dimensional arrays and matrices, along with a collection of mathematical functions to operate on these arrays.\n",
    "* **Matplotlib**: A plotting library for creating static, interactive, and animated visualizations in Python.\n",
    "* **SciPy**: An open-source Python library used for scientific and technical computing. It contains modules for optimization, linear algebra, integration, interpolation, special functions, FFT, signal and image processing, and more.\n",
    "\n",
    "### Installation\n",
    "To install these packages, you can use **pip**, the Python package installer. Execute the following code block:"
   ]
  },
  {
   "cell_type": "code",
   "execution_count": null,
   "metadata": {},
   "outputs": [],
   "source": [
    "%pip install numpy matplotlib scipy"
   ]
  },
  {
   "cell_type": "markdown",
   "metadata": {},
   "source": [
    "### Importing Packages\n",
    "Once the installation is complete, you can import these libraries into your notebook. It's a common practice to import all necessary libraries at the beginning of your notebook. Here's how you can do it:"
   ]
  },
  {
   "cell_type": "code",
   "execution_count": 10,
   "metadata": {},
   "outputs": [],
   "source": [
    "import numpy as np\n",
    "import matplotlib.pyplot as plt\n",
    "from scipy import linalg"
   ]
  },
  {
   "cell_type": "markdown",
   "metadata": {},
   "source": [
    "By executing the above cell, you have successfully imported NumPy, Matplotlib, and a specific module from SciPy into your notebook. You're now ready to proceed with exploring and applying linear algebra concepts using these powerful tools."
   ]
  },
  {
   "cell_type": "markdown",
   "metadata": {},
   "source": [
    "## Scalars, Vectors, Matrices and Tensors\n",
    "### Introduction\n",
    "In linear algebra, we start with the absic building blocks known as scalars, vectors, matrices, and tensors. Understanding these elements is crucial for diving deeper into more complex topics within the quantum world.\n",
    "\n",
    "\n",
    "#### Scalars\n",
    "A **scalar** is a single number, in contrast to most other algebraic entites that are usually arrays of mutliple numbers. It can be an integer, a floating-point number (float), or even a complex number."
   ]
  },
  {
   "cell_type": "code",
   "execution_count": 11,
   "metadata": {},
   "outputs": [
    {
     "name": "stdout",
     "output_type": "stream",
     "text": [
      "Scalar value: 5\n"
     ]
    }
   ],
   "source": [
    "# Scalar\n",
    "a = 5\n",
    "print(\"Scalar value:\", a)"
   ]
  },
  {
   "cell_type": "markdown",
   "metadata": {},
   "source": [
    "#### Vectors\n",
    "A **vector** is an array of **scalars**. Thus, a vector has both magnitude and direction. Vectors in linear algebra can be thought of as spatial vectors."
   ]
  },
  {
   "cell_type": "code",
   "execution_count": 12,
   "metadata": {},
   "outputs": [
    {
     "name": "stdout",
     "output_type": "stream",
     "text": [
      "Vector: [1 2 3]\n"
     ]
    }
   ],
   "source": [
    "v = np.array([1, 2, 3])\n",
    "print(\"Vector:\", v)"
   ]
  },
  {
   "cell_type": "markdown",
   "metadata": {},
   "source": [
    "#### Matrices\n",
    "A matrix is a 2-dimensional array of scalars. Each element of a matrix is identified by two indices instead of just one. Matrices are often used to represent linear transformations or systems of linear equations.\n"
   ]
  },
  {
   "cell_type": "code",
   "execution_count": null,
   "metadata": {},
   "outputs": [],
   "source": [
    "# Matrix\n",
    "M = np.array([[1, 2, 3], [4, 5, 6], [7, 8, 9]])\n",
    "print(\"Matrix:\\n\", M)"
   ]
  },
  {
   "cell_type": "markdown",
   "metadata": {},
   "source": [
    "#### Tensors\n",
    "A tensor is a generalization of scalars, vectors, and matrices to potentially higher dimensions. Informally, it's a multi-dimensional array of numbers."
   ]
  },
  {
   "cell_type": "code",
   "execution_count": null,
   "metadata": {},
   "outputs": [],
   "source": [
    "# Tensor\n",
    "T = np.array([[[1, 2, 3], [4, 5, 6], [7, 8, 9]],\n",
    "              [[10, 11, 12], [13, 14, 15], [16, 17, 18]],\n",
    "              [[19, 20, 21], [22, 23, 24], [25, 26, 27]]])\n",
    "print(\"Tensor:\\n\", T)"
   ]
  },
  {
   "cell_type": "markdown",
   "metadata": {},
   "source": [
    "### Exercises\n",
    "Now, let's consolidate your understanding with a few exercises.\n",
    "\n",
    "#### Exercise 1: Creating Vectors and Matrices\n",
    "* Create a vector of the numbers 5 through 15 using NumPy.\n",
    "* Create a 3x3 matrix with values ranging from 1 to 9."
   ]
  },
  {
   "cell_type": "code",
   "execution_count": null,
   "metadata": {},
   "outputs": [],
   "source": [
    "# Exercise 1\n",
    "### START YOUR CODE HERE\n",
    "\n",
    "\n",
    "\n",
    "### END YOUR CODE HERE"
   ]
  },
  {
   "cell_type": "markdown",
   "metadata": {},
   "source": [
    "#### Exercise 2: Operations on Matrices\n",
    "* Given the matrix A = np.array([[1, 2, 3], [4, 5, 6]]), find its transpose.\n",
    "* Calculate the sum of **A** and its transpose."
   ]
  },
  {
   "cell_type": "code",
   "execution_count": null,
   "metadata": {},
   "outputs": [],
   "source": [
    "# Exercise 2\n",
    "### START YOUR CODE HERE\n",
    "\n",
    "\n",
    "\n",
    "### END YOUR CODE HERE"
   ]
  },
  {
   "cell_type": "markdown",
   "metadata": {},
   "source": [
    "## Matrix Algebra\n",
    "### Introduction\n",
    "Matrix algebra is a cornerstone of linear algebra, providing a powerful way to represent and manipulate linear equations. It encompasses operations that can be performed on matrices, including addition, multiplication, and finding inverses, each of which plays a crucial role in various applications such as solving systems of linear equations, computer graphics, and machine learning.\n",
    "\n",
    "### Matrix Operations\n",
    "Before diving into complex operations, it's important to understand the basic operations that can be performed on matrices.\n",
    "###\n",
    "**Addition and Substraction**\n",
    "Matrices can be added or subtracted element-wise if they have the same dimensions.\n",
    "**Scalar Multiplication**\n",
    "A matrix can be multiplied by a scalar by multiplying each element of the matrix by the scalar.\n"
   ]
  }
 ],
 "metadata": {
  "kernelspec": {
   "display_name": "Python 3",
   "language": "python",
   "name": "python3"
  },
  "language_info": {
   "codemirror_mode": {
    "name": "ipython",
    "version": 3
   },
   "file_extension": ".py",
   "mimetype": "text/x-python",
   "name": "python",
   "nbconvert_exporter": "python",
   "pygments_lexer": "ipython3",
   "version": "3.12.2"
  }
 },
 "nbformat": 4,
 "nbformat_minor": 2
}
