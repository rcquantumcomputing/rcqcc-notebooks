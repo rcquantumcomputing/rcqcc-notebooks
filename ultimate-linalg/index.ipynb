{
 "cells": [
  {
   "cell_type": "markdown",
   "metadata": {},
   "source": [
    "# Ultimate Linear Algebra - Ruzgar Imren"
   ]
  },
  {
   "cell_type": "markdown",
   "metadata": {},
   "source": [
    "## Scalars, Vectors, Matrices and Tensors\n",
    "### Introduction\n",
    "In linear algebra, we start with the absic building blocks known as scalars, vectors, matrices, and tensors. Understanding these elements is crucial for diving deeper into more complex topics within the quantum world.\n",
    "\n",
    "\n",
    "#### Scalars\n",
    "\n",
    "\n",
    "#### Vectors\n",
    "\n",
    "\n",
    "#### Matrices\n",
    "\n",
    "\n",
    "#### Tensors\n",
    "\n",
    "\n",
    "### Exercies"
   ]
  }
 ],
 "metadata": {
  "language_info": {
   "name": "python"
  }
 },
 "nbformat": 4,
 "nbformat_minor": 2
}
