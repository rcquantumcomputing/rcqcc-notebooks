{
 "cells": [
  {
   "cell_type": "markdown",
   "metadata": {},
   "source": [
    "# Ultimate Linear Algebra - Ruzgar Imren"
   ]
  },
  {
   "cell_type": "markdown",
   "metadata": {},
   "source": [
    "## Setting Up Your Environment\n",
    "Before we start exploring the concepts of linear algebra, it's important to ensure that your Python environment is set up with all the necessary packages. This section guides you through installing the required libraries and importing them into your Jupyter Notebook.\n",
    "\n",
    "### Required Packages\n",
    "We'll be using the following dependencies:\n",
    "\n",
    "* **NumPy**: The fundamental library for scientific computing with Python. It provides support for large, multi-dimensional arrays and matrices, along with a collection of mathematical functions to operate on these arrays.\n",
    "* **Matplotlib**: A plotting library for creating static, interactive, and animated visualizations in Python.\n",
    "* **SciPy**: An open-source Python library used for scientific and technical computing. It contains modules for optimization, linear algebra, integration, interpolation, special functions, FFT, signal and image processing, and more.\n",
    "\n",
    "### Installation\n",
    "To install these packages, you can use **pip**, the Python package installer. Execute the following code block:"
   ]
  },
  {
   "cell_type": "code",
   "execution_count": 52,
   "metadata": {},
   "outputs": [
    {
     "name": "stdout",
     "output_type": "stream",
     "text": [
      "Requirement already satisfied: numpy in /Library/Frameworks/Python.framework/Versions/3.12/lib/python3.12/site-packages (1.26.4)\n",
      "Requirement already satisfied: matplotlib in /Library/Frameworks/Python.framework/Versions/3.12/lib/python3.12/site-packages (3.8.4)\n",
      "Requirement already satisfied: scipy in /Library/Frameworks/Python.framework/Versions/3.12/lib/python3.12/site-packages (1.13.0)\n",
      "Collecting qiskit\n",
      "  Downloading qiskit-1.0.2-cp38-abi3-macosx_11_0_arm64.whl.metadata (12 kB)\n",
      "Requirement already satisfied: contourpy>=1.0.1 in /Library/Frameworks/Python.framework/Versions/3.12/lib/python3.12/site-packages (from matplotlib) (1.2.1)\n",
      "Requirement already satisfied: cycler>=0.10 in /Library/Frameworks/Python.framework/Versions/3.12/lib/python3.12/site-packages (from matplotlib) (0.12.1)\n",
      "Requirement already satisfied: fonttools>=4.22.0 in /Library/Frameworks/Python.framework/Versions/3.12/lib/python3.12/site-packages (from matplotlib) (4.51.0)\n",
      "Requirement already satisfied: kiwisolver>=1.3.1 in /Library/Frameworks/Python.framework/Versions/3.12/lib/python3.12/site-packages (from matplotlib) (1.4.5)\n",
      "Requirement already satisfied: packaging>=20.0 in /Users/ruzgarimren/Library/Python/3.12/lib/python/site-packages (from matplotlib) (24.0)\n",
      "Requirement already satisfied: pillow>=8 in /Library/Frameworks/Python.framework/Versions/3.12/lib/python3.12/site-packages (from matplotlib) (10.3.0)\n",
      "Requirement already satisfied: pyparsing>=2.3.1 in /Library/Frameworks/Python.framework/Versions/3.12/lib/python3.12/site-packages (from matplotlib) (3.1.2)\n",
      "Requirement already satisfied: python-dateutil>=2.7 in /Users/ruzgarimren/Library/Python/3.12/lib/python/site-packages (from matplotlib) (2.9.0.post0)\n",
      "Collecting rustworkx>=0.14.0 (from qiskit)\n",
      "  Downloading rustworkx-0.14.2-cp312-cp312-macosx_11_0_arm64.whl.metadata (10.0 kB)\n",
      "Collecting sympy>=1.3 (from qiskit)\n",
      "  Using cached sympy-1.12-py3-none-any.whl.metadata (12 kB)\n",
      "Collecting dill>=0.3 (from qiskit)\n",
      "  Downloading dill-0.3.8-py3-none-any.whl.metadata (10 kB)\n",
      "Collecting stevedore>=3.0.0 (from qiskit)\n",
      "  Downloading stevedore-5.2.0-py3-none-any.whl.metadata (2.3 kB)\n",
      "Collecting typing-extensions (from qiskit)\n",
      "  Downloading typing_extensions-4.11.0-py3-none-any.whl.metadata (3.0 kB)\n",
      "Collecting symengine>=0.11 (from qiskit)\n",
      "  Downloading symengine-0.11.0-cp312-cp312-macosx_11_0_arm64.whl.metadata (1.2 kB)\n",
      "Requirement already satisfied: six>=1.5 in /Users/ruzgarimren/Library/Python/3.12/lib/python/site-packages (from python-dateutil>=2.7->matplotlib) (1.16.0)\n",
      "Collecting pbr!=2.1.0,>=2.0.0 (from stevedore>=3.0.0->qiskit)\n",
      "  Downloading pbr-6.0.0-py2.py3-none-any.whl.metadata (1.3 kB)\n",
      "Collecting mpmath>=0.19 (from sympy>=1.3->qiskit)\n",
      "  Using cached mpmath-1.3.0-py3-none-any.whl.metadata (8.6 kB)\n",
      "Downloading qiskit-1.0.2-cp38-abi3-macosx_11_0_arm64.whl (4.1 MB)\n",
      "\u001b[2K   \u001b[90m━━━━━━━━━━━━━━━━━━━━━━━━━━━━━━━━━━━━━━━━\u001b[0m \u001b[32m4.1/4.1 MB\u001b[0m \u001b[31m2.8 MB/s\u001b[0m eta \u001b[36m0:00:00\u001b[0m00:01\u001b[0m00:01\u001b[0m\n",
      "\u001b[?25hDownloading dill-0.3.8-py3-none-any.whl (116 kB)\n",
      "\u001b[2K   \u001b[90m━━━━━━━━━━━━━━━━━━━━━━━━━━━━━━━━━━━━━━━━\u001b[0m \u001b[32m116.3/116.3 kB\u001b[0m \u001b[31m3.5 MB/s\u001b[0m eta \u001b[36m0:00:00\u001b[0m\n",
      "\u001b[?25hDownloading rustworkx-0.14.2-cp312-cp312-macosx_11_0_arm64.whl (1.7 MB)\n",
      "\u001b[2K   \u001b[90m━━━━━━━━━━━━━━━━━━━━━━━━━━━━━━━━━━━━━━━━\u001b[0m \u001b[32m1.7/1.7 MB\u001b[0m \u001b[31m3.1 MB/s\u001b[0m eta \u001b[36m0:00:00\u001b[0ma \u001b[36m0:00:01\u001b[0m\n",
      "\u001b[?25hDownloading stevedore-5.2.0-py3-none-any.whl (49 kB)\n",
      "\u001b[2K   \u001b[90m━━━━━━━━━━━━━━━━━━━━━━━━━━━━━━━━━━━━━━━━\u001b[0m \u001b[32m49.7/49.7 kB\u001b[0m \u001b[31m3.2 MB/s\u001b[0m eta \u001b[36m0:00:00\u001b[0m\n",
      "\u001b[?25hDownloading symengine-0.11.0-cp312-cp312-macosx_11_0_arm64.whl (20.5 MB)\n",
      "\u001b[2K   \u001b[90m━━━━━━━━━━━━━━━━━━━━━━━━━━━━━━━━━━━━━━━━\u001b[0m \u001b[32m20.5/20.5 MB\u001b[0m \u001b[31m5.1 MB/s\u001b[0m eta \u001b[36m0:00:00\u001b[0m00:01\u001b[0m00:01\u001b[0mm\n",
      "\u001b[?25hUsing cached sympy-1.12-py3-none-any.whl (5.7 MB)\n",
      "Downloading typing_extensions-4.11.0-py3-none-any.whl (34 kB)\n",
      "Using cached mpmath-1.3.0-py3-none-any.whl (536 kB)\n",
      "Downloading pbr-6.0.0-py2.py3-none-any.whl (107 kB)\n",
      "\u001b[2K   \u001b[90m━━━━━━━━━━━━━━━━━━━━━━━━━━━━━━━━━━━━━━━━\u001b[0m \u001b[32m107.5/107.5 kB\u001b[0m \u001b[31m5.6 MB/s\u001b[0m eta \u001b[36m0:00:00\u001b[0m\n",
      "\u001b[?25hInstalling collected packages: mpmath, typing-extensions, sympy, symengine, rustworkx, pbr, dill, stevedore, qiskit\n",
      "Successfully installed dill-0.3.8 mpmath-1.3.0 pbr-6.0.0 qiskit-1.0.2 rustworkx-0.14.2 stevedore-5.2.0 symengine-0.11.0 sympy-1.12 typing-extensions-4.11.0\n",
      "Note: you may need to restart the kernel to use updated packages.\n"
     ]
    }
   ],
   "source": [
    "%pip install numpy matplotlib scipy qiskit"
   ]
  },
  {
   "cell_type": "markdown",
   "metadata": {},
   "source": [
    "### Importing Packages\n",
    "Once the installation is complete, you can import these libraries into your notebook. It's a common practice to import all necessary libraries at the beginning of your notebook. Here's how you can do it:"
   ]
  },
  {
   "cell_type": "code",
   "execution_count": 55,
   "metadata": {},
   "outputs": [],
   "source": [
    "import numpy as np\n",
    "import matplotlib.pyplot as plt\n",
    "from scipy import linalg\n",
    "from qiskit import QuantumCircuit\n",
    "from qiskit.circuit.library import Initialize"
   ]
  },
  {
   "cell_type": "markdown",
   "metadata": {},
   "source": [
    "By executing the above cell, you have successfully imported NumPy, Matplotlib, and a specific module from SciPy into your notebook. You're now ready to proceed with exploring and applying linear algebra concepts using these powerful tools."
   ]
  },
  {
   "cell_type": "markdown",
   "metadata": {},
   "source": [
    "## Scalars, Vectors, Matrices and Tensors\n",
    "### Introduction\n",
    "In linear algebra, we start with the absic building blocks known as scalars, vectors, matrices, and tensors. Understanding these elements is crucial for diving deeper into more complex topics within the quantum world.\n",
    "\n",
    "\n",
    "#### Scalars\n",
    "A **scalar** is a single number, in contrast to most other algebraic entites that are usually arrays of mutliple numbers. It can be an integer, a floating-point number (float), or even a complex number."
   ]
  },
  {
   "cell_type": "code",
   "execution_count": null,
   "metadata": {},
   "outputs": [],
   "source": [
    "# Scalar\n",
    "a = 5\n",
    "print(\"Scalar value:\", a)"
   ]
  },
  {
   "cell_type": "markdown",
   "metadata": {},
   "source": [
    "#### Vectors\n",
    "A **vector** is an array of **scalars**. Thus, a vector has both magnitude and direction. Vectors in linear algebra can be thought of as spatial vectors."
   ]
  },
  {
   "cell_type": "code",
   "execution_count": null,
   "metadata": {},
   "outputs": [],
   "source": [
    "v = np.array([1, 2, 3])\n",
    "print(\"Vector:\", v)"
   ]
  },
  {
   "cell_type": "markdown",
   "metadata": {},
   "source": [
    "#### Matrices\n",
    "A matrix is a 2-dimensional array of scalars. Each element of a matrix is identified by two indices instead of just one. Matrices are often used to represent linear transformations or systems of linear equations.\n"
   ]
  },
  {
   "cell_type": "code",
   "execution_count": null,
   "metadata": {},
   "outputs": [],
   "source": [
    "# Matrix\n",
    "M = np.array([[1, 2, 3], [4, 5, 6], [7, 8, 9]])\n",
    "print(\"Matrix:\\n\", M)"
   ]
  },
  {
   "cell_type": "markdown",
   "metadata": {},
   "source": [
    "#### Tensors\n",
    "A tensor is a generalization of scalars, vectors, and matrices to potentially higher dimensions. Informally, it's a multi-dimensional array of numbers."
   ]
  },
  {
   "cell_type": "code",
   "execution_count": null,
   "metadata": {},
   "outputs": [],
   "source": [
    "# Tensor\n",
    "T = np.array([[[1, 2, 3], [4, 5, 6], [7, 8, 9]],\n",
    "              [[10, 11, 12], [13, 14, 15], [16, 17, 18]],\n",
    "              [[19, 20, 21], [22, 23, 24], [25, 26, 27]]])\n",
    "print(\"Tensor:\\n\", T)"
   ]
  },
  {
   "cell_type": "markdown",
   "metadata": {},
   "source": [
    "### Exercises\n",
    "Now, let's consolidate your understanding with a few exercises.\n",
    "\n",
    "#### Exercise 1: Creating Vectors and Matrices\n",
    "* Create a vector of the numbers 5 through 15 using NumPy.\n",
    "* Create a 3x3 matrix with values ranging from 1 to 9."
   ]
  },
  {
   "cell_type": "code",
   "execution_count": null,
   "metadata": {},
   "outputs": [],
   "source": [
    "# Exercise 1\n",
    "### START YOUR CODE HERE\n",
    "\n",
    "\n",
    "\n",
    "### END YOUR CODE HERE"
   ]
  },
  {
   "cell_type": "markdown",
   "metadata": {},
   "source": [
    "#### Exercise 2: Operations on Matrices\n",
    "* Given the matrix A = np.array([[1, 2, 3], [4, 5, 6]]), find its transpose.\n",
    "* Calculate the sum of **A** and its transpose."
   ]
  },
  {
   "cell_type": "code",
   "execution_count": null,
   "metadata": {},
   "outputs": [],
   "source": [
    "# Exercise 2\n",
    "### START YOUR CODE HERE\n",
    "\n",
    "\n",
    "\n",
    "### END YOUR CODE HERE"
   ]
  },
  {
   "cell_type": "markdown",
   "metadata": {},
   "source": [
    "## Matrix Algebra\n",
    "### Introduction\n",
    "Matrix algebra is a cornerstone of linear algebra, providing a powerful way to represent and manipulate linear equations. It encompasses operations that can be performed on matrices, including addition, multiplication, and finding inverses, each of which plays a crucial role in various applications such as solving systems of linear equations, computer graphics, and machine learning.\n",
    "\n",
    "### Matrix Operations\n",
    "Before diving into complex operations, it's important to understand the basic operations that can be performed on matrices.\n",
    "###\n",
    "**Addition and Substraction**\n",
    "Matrices can be added or subtracted element-wise if they have the same dimensions.\n",
    "**Scalar Multiplication**\n",
    "A matrix can be multiplied by a scalar by multiplying each element of the matrix by the scalar.\n",
    "**Matrix Multiplication**\n",
    "Matrix multiplication, or the dot product, is a more complex operation where the elements of the rows in the first matrix are multiplied with corresponding elements of the columns in the second matrix and summed up to produce a new matrix.\n"
   ]
  },
  {
   "cell_type": "code",
   "execution_count": null,
   "metadata": {},
   "outputs": [],
   "source": [
    "# Matrix Operations\n",
    "\n",
    "## Define two matrices\n",
    "A = np.array([[1, 2], [3, 4]])\n",
    "B = np.array([[5, 6], [7, 8]])\n",
    "\n",
    "# Matrix Addition\n",
    "print(\"Matrix Addition:\\n\", A + B)\n",
    "\n",
    "# Scalar Multiplication\n",
    "print(\"Scalar Multiplication:\\n\", 2 * A)\n",
    "\n",
    "# Matrix Multiplication\n",
    "print(\"Matrix Multiplication:\\n\", np.dot(A, B))"
   ]
  },
  {
   "cell_type": "markdown",
   "metadata": {},
   "source": [
    "### Exercises\n",
    "#### Exercise 1: Performing Basic Matrix Operations\n",
    "* Create two matrices, C and D, with dimensions of your choice but the same size. Perform and print the results of their addition, subtraction, and scalar multiplication.\n",
    "* Verify the property of distributivity of matrix multiplication over addition with matrices A, B, and C (i.e., A(B + C) = AB + AC).\n"
   ]
  },
  {
   "cell_type": "code",
   "execution_count": null,
   "metadata": {},
   "outputs": [],
   "source": [
    "# Exercise 1\n",
    "### START YOUR CODE HERE\n",
    "\n",
    "\n",
    "\n",
    "### END YOUR CODE HERE"
   ]
  },
  {
   "cell_type": "markdown",
   "metadata": {},
   "source": [
    "#### Exercise 2: Matrix Multiplication\n",
    "Given matrices E = np.array([[1, 2], [3, 4]]) and F = np.array([[2, 0], [1, 3]]):\n",
    "* Compute and print the product of E and F.\n",
    "* Verify if the multiplication is commutative, i.e., check if EF equals FE."
   ]
  },
  {
   "cell_type": "code",
   "execution_count": null,
   "metadata": {},
   "outputs": [],
   "source": [
    "# Exercise 2\n",
    "### START YOUR CODE HERE\n",
    "\n",
    "\n",
    "\n",
    "### END YOUR CODE HERE"
   ]
  },
  {
   "cell_type": "markdown",
   "metadata": {},
   "source": [
    "## Systems of Linear Equations\n",
    "### Introduction\n",
    "A system of linear equations consists of two or more linear equations involving the same set of variables. These systems play a crucial role in fields such as engineering, physics, economics, and more, as they describe numerous real-world situations.\n",
    "### Representation of Systems\n",
    "* **Graphical Method**: Introduce solving simple systems by graphing lines and finding their intersection.\n",
    "* **Algebraic Methods**: Focus on substitution and elimination methods for solving systems of equations.\n",
    "* **Matrix Method**: Discuss how systems can be represented as matrices and solved using matrix operations."
   ]
  },
  {
   "cell_type": "code",
   "execution_count": null,
   "metadata": {},
   "outputs": [],
   "source": [
    "# Representation of Systems\n",
    "\n",
    "# Define the coefficient matrix A and the constant vector b\n",
    "A = np.array([[2, 1], [1, -1]])\n",
    "b = np.array([7, -1])\n",
    "\n",
    "# Solve the system of equations Ax = b\n",
    "x = np.linalg.solve(A, b)\n",
    "print(\"Solution of the system:\", x)"
   ]
  },
  {
   "cell_type": "markdown",
   "metadata": {},
   "source": [
    "### Exercises\n",
    "#### Exercise 1: Solve Systems of Linear Equations\n",
    "* Given the system of equations 3x + 4y = 5 and 2x - y = 1, represent this system as a matrix equation and solve for x and y using Python.\n",
    "* Explore how changes in the system (like making it overdetermined or underdetermined) affect the solution.\n"
   ]
  },
  {
   "cell_type": "code",
   "execution_count": null,
   "metadata": {},
   "outputs": [],
   "source": [
    "# Exercise 1\n",
    "### START YOUR CODE HERE\n",
    "\n",
    "\n",
    "\n",
    "### END YOUR CODE HERE"
   ]
  },
  {
   "cell_type": "markdown",
   "metadata": {},
   "source": [
    "#### Exercise 2: Application in Real-World Problems\n",
    "* Provide a practical example, such as a balancing chemical equations problem or a simple economic model (like a market equilibrium), and ask learners to formulate and solve the system of linear equations."
   ]
  },
  {
   "cell_type": "code",
   "execution_count": null,
   "metadata": {},
   "outputs": [],
   "source": [
    "# Exercise 2\n",
    "### START YOUR CODE HERE\n",
    "\n",
    "\n",
    "\n",
    "### END YOUR CODE HERE"
   ]
  },
  {
   "cell_type": "markdown",
   "metadata": {},
   "source": [
    "## Eigenvalues and Eigenvectors\n",
    "### Introduction\n",
    "Eigenvalues and eigenvectors are fundamental concepts in linear algebra used to analyze and simplify matrix operations, particularly in the transformation of vectors. They play a crucial role in various scientific and engineering disciplines, helping to solve problems involving linear transformations and systems of differential equations.\n",
    "\n",
    "### Understanding Eigenvalues and Eigenvectors\n",
    "* **Definition**: Explain what eigenvalues and eigenvectors are, and how they relate to linear transformations.\n",
    "* **Geometric Interpretation**: Provide a visual explanation of how eigenvectors represent directions that are invariant under the specified transformation, and eigenvalues represent the scaling factor along those directions."
   ]
  },
  {
   "cell_type": "code",
   "execution_count": null,
   "metadata": {},
   "outputs": [],
   "source": [
    "# Understanding Eigenvalues and Eigenvectors\n",
    "\n",
    "# Define a matrix\n",
    "A = np.array([[4, 2], [1, 3]])\n",
    "\n",
    "# Calculate eigenvalues and eigenvectors\n",
    "eigenvalues, eigenvectors = np.linalg.eig(A)\n",
    "print(\"Eigenvalues:\", eigenvalues)\n",
    "print(\"Eigenvectors:\\n\", eigenvectors)"
   ]
  },
  {
   "cell_type": "markdown",
   "metadata": {},
   "source": [
    "### Exercises\n",
    "#### Exercise 1: Finding Eigenvalues and Eigenvectors\n",
    "* Create a matrix, for example, B = np.array([[0, -1], [1, 0]]). Calculate its eigenvalues and eigenvectors. Think about the results, especially how they relate to the properties of rotation matrices."
   ]
  },
  {
   "cell_type": "code",
   "execution_count": null,
   "metadata": {},
   "outputs": [],
   "source": [
    "# Exercise 1\n",
    "### START YOUR CODE HERE\n",
    "\n",
    "\n",
    "\n",
    "### END YOUR CODE HERE"
   ]
  },
  {
   "cell_type": "markdown",
   "metadata": {},
   "source": [
    "#### Exercise 2: Practical Application\n",
    "Background \n",
    "In **quantum mechanics**, the behavior of systems at microscopic scales is often described by the Schrödinger equation. For many systems, solving the Schrödiger equation involves finding the eigenvalues and eigenvectors of a Hamiltonian matrix, which represent the energy states of the system. These energy states are critical for understanding the physical properties of molecules and atoms.\n",
    "\n",
    "Consider a simple model of a particle in a one-dimensional potential well, where the potential \\( V(x) \\) is zero, and the well boundaries are at \\( x = 0 \\) and \\( x = L \\). The Hamiltonian matrix \\( H \\) in a discretized space representation is given by the following tridiagonal matrix form, where \\( a \\) and \\( b \\) are constants derived from the physical setup and discretization:\n",
    "\n",
    "$$\n",
    "H = \\begin{bmatrix}\n",
    "b & a & 0 & \\dots & 0 \\\\\n",
    "a & b & a & \\dots & 0 \\\\\n",
    "0 & a & b & \\dots & 0 \\\\\n",
    "\\vdots & \\vdots & \\vdots & \\ddots & a \\\\\n",
    "0 & 0 & 0 & a & b\n",
    "\\end{bmatrix}\n",
    "$$\n",
    "\n",
    "\n",
    "Your **task** is to:\n",
    "1. Construct this Hamiltonian matrix for a given number of discrete positions \\( (e.g., N = 10)\\)\n",
    "2. Calculate and print the eigenvalues, which represent the possible energy levels of the particle.\n",
    "3. Think about how the number of positions \\(N\\) influences the accuracy of the calculated energy levels.\n"
   ]
  },
  {
   "cell_type": "code",
   "execution_count": null,
   "metadata": {},
   "outputs": [],
   "source": [
    "# Exercise 2\n",
    "def calculate_energy_levels(N, a, b):\n",
    "    \"\"\"\n",
    "    This function creates the Hamiltonian matrix for a system and calculates its energy levels.\n",
    "\n",
    "    Parameters:\n",
    "    N (int): Number of discrete positions in the system.\n",
    "    a (float): Off-diagonal element in Hamiltonian matrix, representing coupling between adjacent positions.\n",
    "    b (float): Diagonal element in Hamiltonian matrix, representing the potential at each position.\n",
    "\n",
    "    Returns:\n",
    "    eigenvalues_sorted (array): Sorted energy levels of the system.\n",
    "    \"\"\"\n",
    "    \n",
    "    ## START YOUR CODE HERE ##\n",
    "\n",
    "    # Create the Hamiltonian matrix as a NxN array of zeros\n",
    "    H = None\n",
    "\n",
    "    # Set up the tridiagonal matrix with 'a' on the off-diagonals and 'b' on the diagonal\n",
    "    np.fill_diagonal(H[1:], a)\n",
    "    np.fill_diagonal(H[:, 1:], a)\n",
    "    np.fill_diagonal(H, b)\n",
    "\n",
    "    # Calculate eigenvalues and eigenvectors\n",
    "    eigenvalues = None\n",
    "\n",
    "    # Sort the eigenvalues for better readability\n",
    "    eigenvalues_sorted = None\n",
    "\n",
    "    ## END YOUR CODE HERE ##\n",
    "    \n",
    "    return eigenvalues_sorted\n",
    "\n",
    "# Constants a and b\n",
    "a = -1  # Example value\n",
    "b = 2   # Example value\n",
    "\n",
    "# Number of discrete positions\n",
    "N = 10\n",
    "\n",
    "# Calculate and print sorted eigenvalues\n",
    "eigenvalues_sorted = calculate_energy_levels(N, a, b)\n",
    "print(\"Sorted Eigenvalues (Energy Levels):\", eigenvalues_sorted)"
   ]
  },
  {
   "cell_type": "markdown",
   "metadata": {},
   "source": [
    "## Singular Value Decomposition (SVD)\n",
    "### Introduction\n",
    "Singular Value Decomposition, or SVD, is a method of decomposing a matrix into three other matrices with special properties. It can be applied to any $m \\times n$ matrix and is widely used in signal processing, statistics, semantic indexing (such as in search engines), and even in machine learning for dimensionality reduction.\n",
    "\n",
    "### Understanding SVD\n",
    "* **The SVD Theorem**: Any $m \\times n$ matrix $A$ can be decomposed into the product of three matrices: $A = U\\Sigma V^T$ where:\n",
    "    * $U$ is an $m \\times m$ orthogonal matrix whose columns are the left singular vectors of $A$.\n",
    "    * $\\Sigma$ is an $m \\times n$ diagonal matrix with non-negative real numbers on the diagonal known as singular values.\n",
    "    * $V^T$ is the transpose of an $n \\times n$ orthogonal matrix whose columns are the **right** singular vectors of $A$.\n",
    "\n",
    "### Applications of SVD\n",
    "SVD is not just a theoretical mathematical tool. It allso has practical applications in:\n",
    "* **Data Compression**: Using the low-rank approximation property of SVD for image and signal compression.\n",
    "* **Noise Reduction**: Separating the signal from the noise in signal processing.\n",
    "* **Principal Component Analysis (PCA)**: Reducing the dimensionality of data while preserving as much variability as possible.\n",
    "* **Recommendation Systems**: Identifying hidden patterns in user-item matrices in recommendation engines."
   ]
  },
  {
   "cell_type": "code",
   "execution_count": null,
   "metadata": {},
   "outputs": [],
   "source": [
    "# Singular Value Decomposition\n",
    "\n",
    "# Example matrix A\n",
    "A = np.array([[3, 4, 3], [1, 2, 3], [4, 2, 1]])\n",
    "\n",
    "# Perform SVD\n",
    "U, Sigma, VT = np.linalg.svd(A)\n",
    "\n",
    "# Sigma returned as a 1D array of singular values, need to convert to a diagonal matrix\n",
    "Sigma_mat = np.diag(Sigma)\n",
    "\n",
    "# Display the decomposed matrices\n",
    "print(\"U (Left Singular Vectors):\\n\", U)\n",
    "print(\"\\nSigma (Diagonal matrix of Singular Values):\\n\", Sigma_mat)\n",
    "print(\"\\nVT (Right Singular Vectors Transposed):\\n\", VT)"
   ]
  },
  {
   "cell_type": "markdown",
   "metadata": {},
   "source": [
    "### Exercises\n",
    "#### Exercise 1 Quantum State Preperation using SVD\n",
    "Background\n",
    "\n",
    "In quantum computing, preparing a quantum state that corresponds to a classical dataset is a common task. SVD can be used to find the optimal lower-dimensional space for encoding the dataset before preparing the quantum state. The singular values indicate the importance of each dimension, and dimensions with very small singular values can be ignored, leading to a more efficient quantum state preparation.\n"
   ]
  },
  {
   "cell_type": "code",
   "execution_count": null,
   "metadata": {},
   "outputs": [],
   "source": [
    "\n",
    "# Exercise 1:\n",
    "\n",
    "# Define the classical data vector\n",
    "data_vector = np.array([0.5, 0.5, 0.5, 0.5])\n",
    "\n",
    "# Ensure the data_vector is a normalized state\n",
    "data_vector /= np.linalg.norm(data_vector)\n",
    "\n",
    "# Number of qubits is log2 of the size of data_vector\n",
    "num_qubits = int(np.log2(data_vector.size))\n",
    "\n",
    "## START YOUR CODE HERE ##\n",
    "\n",
    "# Create a quantum circuit\n",
    "qc = None\n",
    "\n",
    "# Use the Initialize instruction to prepare the quantum state\n",
    "init_gate = None\n",
    "qc.append(None, None)\n",
    "\n",
    "## END YOUR CODE HERE ##\n",
    "\n",
    "# We now have a quantum circuit that prepares the state corresponding to our classical data\n",
    "qc.draw('mpl')"
   ]
  },
  {
   "cell_type": "markdown",
   "metadata": {},
   "source": [
    "#### Exercise 2: PCA Using SVD\n",
    "Apply SVD on a dataset to perform PCA. Determine the principal components and use them to reduce the dimensionality of the dataset."
   ]
  },
  {
   "cell_type": "code",
   "execution_count": null,
   "metadata": {},
   "outputs": [],
   "source": [
    "# Exercise 2 \n",
    "def pca_using_svd(data, n_components):\n",
    "    \"\"\"\n",
    "    Perform PCA using SVD on a given dataset and reduce its dimensionality.\n",
    "\n",
    "    Parameters:\n",
    "    data (np.ndarray): The input data on which to perform PCA.\n",
    "    n_components (int): The number of principal components to keep.\n",
    "\n",
    "    Returns:\n",
    "    data_reduced (np.ndarray): The reduced dimensionality data.\n",
    "    Vt (np.ndarray): The right singular vectors, representing the principal components.\n",
    "    \"\"\"\n",
    "    \n",
    "    # Center the data by subtracting the mean of each feature\n",
    "    data_centered = data - np.mean(data, axis=0)\n",
    "\n",
    "    ## START YOUR CODE HERE ##\n",
    "\n",
    "    # Perform SVD\n",
    "    U, S, Vt = np.linalg.svd(data_centered, full_matrices=False)\n",
    "\n",
    "    # Select the top n_components right singular vectors\n",
    "    principal_components = None\n",
    "\n",
    "    # Project the data onto the principal components\n",
    "    data_reduced = None\n",
    "\n",
    "    ## END YOUR CODE HERE ##\n",
    "\n",
    "    return data_reduced, principal_components\n",
    "\n",
    "# Number of principal components to keep\n",
    "n_components = 2\n",
    "\n",
    "np.random.seed(42)\n",
    "\n",
    "# Create a synthetic dataset\n",
    "num_samples = 100\n",
    "feature_means = [0, 0, 0]\n",
    "covariance_matrix = [[1, 0.8, 0.8], [0.8, 1, 0.8], [0.8, 0.8, 1]]\n",
    "\n",
    "# Generate the random samples from a multivariate normal distribution\n",
    "data = np.random.multivariate_normal(feature_means, covariance_matrix, size=num_samples)\n",
    "\n",
    "\n",
    "# Perform PCA using SVD\n",
    "data_reduced, principal_components = pca_using_svd(data, n_components)\n",
    "\n",
    "\n",
    "\n",
    "# Visualize the reduced data\n",
    "if n_components == 2:\n",
    "    plt.scatter(data_reduced[:, 0], data_reduced[:, 1], alpha=0.5)\n",
    "    plt.xlabel('Principal Component 1')\n",
    "    plt.ylabel('Principal Component 2')\n",
    "    plt.title('PCA using SVD')\n",
    "    plt.show()"
   ]
  }
 ],
 "metadata": {
  "kernelspec": {
   "display_name": "Python 3",
   "language": "python",
   "name": "python3"
  },
  "language_info": {
   "codemirror_mode": {
    "name": "ipython",
    "version": 3
   },
   "file_extension": ".py",
   "mimetype": "text/x-python",
   "name": "python",
   "nbconvert_exporter": "python",
   "pygments_lexer": "ipython3",
   "version": "3.12.2"
  }
 },
 "nbformat": 4,
 "nbformat_minor": 2
}
